{
 "cells": [
  {
   "cell_type": "code",
   "execution_count": 2,
   "metadata": {},
   "outputs": [],
   "source": [
    "import numpy as np\n",
    "import pandas as pd"
   ]
  },
  {
   "cell_type": "code",
   "execution_count": 3,
   "metadata": {},
   "outputs": [
    {
     "data": {
      "text/plain": [
       "0    0.428793\n",
       "1    0.445065\n",
       "2    0.675897\n",
       "3    0.992875\n",
       "4    0.761852\n",
       "Name: Column 01, dtype: float64"
      ]
     },
     "execution_count": 3,
     "metadata": {},
     "output_type": "execute_result"
    }
   ],
   "source": [
    "ser = pd.Series(np.random.random(5), name = \"Column 01\")\n",
    "ser"
   ]
  },
  {
   "cell_type": "markdown",
   "metadata": {},
   "source": [
    "Ser: dictionaries of the same data type "
   ]
  },
  {
   "cell_type": "code",
   "execution_count": 4,
   "metadata": {},
   "outputs": [
    {
     "data": {
      "text/plain": [
       "0.6758965845664409"
      ]
     },
     "execution_count": 4,
     "metadata": {},
     "output_type": "execute_result"
    }
   ],
   "source": [
    "ser[2]"
   ]
  },
  {
   "cell_type": "code",
   "execution_count": 5,
   "metadata": {},
   "outputs": [],
   "source": [
    "from pandas_datareader import data as wb # wb stats for web"
   ]
  },
  {
   "cell_type": "code",
   "execution_count": 6,
   "metadata": {},
   "outputs": [
    {
     "data": {
      "text/html": [
       "<div>\n",
       "<style scoped>\n",
       "    .dataframe tbody tr th:only-of-type {\n",
       "        vertical-align: middle;\n",
       "    }\n",
       "\n",
       "    .dataframe tbody tr th {\n",
       "        vertical-align: top;\n",
       "    }\n",
       "\n",
       "    .dataframe thead th {\n",
       "        text-align: right;\n",
       "    }\n",
       "</style>\n",
       "<table border=\"1\" class=\"dataframe\">\n",
       "  <thead>\n",
       "    <tr style=\"text-align: right;\">\n",
       "      <th></th>\n",
       "      <th>High</th>\n",
       "      <th>Low</th>\n",
       "      <th>Open</th>\n",
       "      <th>Close</th>\n",
       "      <th>Volume</th>\n",
       "      <th>Adj Close</th>\n",
       "    </tr>\n",
       "    <tr>\n",
       "      <th>Date</th>\n",
       "      <th></th>\n",
       "      <th></th>\n",
       "      <th></th>\n",
       "      <th></th>\n",
       "      <th></th>\n",
       "      <th></th>\n",
       "    </tr>\n",
       "  </thead>\n",
       "  <tbody>\n",
       "    <tr>\n",
       "      <th>1995-01-03</th>\n",
       "      <td>0.347098</td>\n",
       "      <td>0.338170</td>\n",
       "      <td>0.347098</td>\n",
       "      <td>0.342634</td>\n",
       "      <td>1.038688e+08</td>\n",
       "      <td>0.290871</td>\n",
       "    </tr>\n",
       "    <tr>\n",
       "      <th>1995-01-04</th>\n",
       "      <td>0.353795</td>\n",
       "      <td>0.344866</td>\n",
       "      <td>0.344866</td>\n",
       "      <td>0.351563</td>\n",
       "      <td>1.586816e+08</td>\n",
       "      <td>0.298451</td>\n",
       "    </tr>\n",
       "    <tr>\n",
       "      <th>1995-01-05</th>\n",
       "      <td>0.351563</td>\n",
       "      <td>0.345982</td>\n",
       "      <td>0.350446</td>\n",
       "      <td>0.347098</td>\n",
       "      <td>7.364000e+07</td>\n",
       "      <td>0.294660</td>\n",
       "    </tr>\n",
       "    <tr>\n",
       "      <th>1995-01-06</th>\n",
       "      <td>0.385045</td>\n",
       "      <td>0.367188</td>\n",
       "      <td>0.371652</td>\n",
       "      <td>0.375000</td>\n",
       "      <td>1.076622e+09</td>\n",
       "      <td>0.318347</td>\n",
       "    </tr>\n",
       "    <tr>\n",
       "      <th>1995-01-09</th>\n",
       "      <td>0.373884</td>\n",
       "      <td>0.366071</td>\n",
       "      <td>0.371652</td>\n",
       "      <td>0.367885</td>\n",
       "      <td>2.740864e+08</td>\n",
       "      <td>0.312307</td>\n",
       "    </tr>\n",
       "    <tr>\n",
       "      <th>...</th>\n",
       "      <td>...</td>\n",
       "      <td>...</td>\n",
       "      <td>...</td>\n",
       "      <td>...</td>\n",
       "      <td>...</td>\n",
       "      <td>...</td>\n",
       "    </tr>\n",
       "    <tr>\n",
       "      <th>2021-10-26</th>\n",
       "      <td>150.839996</td>\n",
       "      <td>149.009995</td>\n",
       "      <td>149.330002</td>\n",
       "      <td>149.320007</td>\n",
       "      <td>6.089340e+07</td>\n",
       "      <td>149.320007</td>\n",
       "    </tr>\n",
       "    <tr>\n",
       "      <th>2021-10-27</th>\n",
       "      <td>149.729996</td>\n",
       "      <td>148.490005</td>\n",
       "      <td>149.360001</td>\n",
       "      <td>148.850006</td>\n",
       "      <td>5.609490e+07</td>\n",
       "      <td>148.850006</td>\n",
       "    </tr>\n",
       "    <tr>\n",
       "      <th>2021-10-28</th>\n",
       "      <td>153.169998</td>\n",
       "      <td>149.720001</td>\n",
       "      <td>149.820007</td>\n",
       "      <td>152.570007</td>\n",
       "      <td>1.000779e+08</td>\n",
       "      <td>152.570007</td>\n",
       "    </tr>\n",
       "    <tr>\n",
       "      <th>2021-10-29</th>\n",
       "      <td>149.940002</td>\n",
       "      <td>146.410004</td>\n",
       "      <td>147.220001</td>\n",
       "      <td>149.800003</td>\n",
       "      <td>1.248504e+08</td>\n",
       "      <td>149.800003</td>\n",
       "    </tr>\n",
       "    <tr>\n",
       "      <th>2021-11-01</th>\n",
       "      <td>149.699997</td>\n",
       "      <td>147.800003</td>\n",
       "      <td>148.985001</td>\n",
       "      <td>148.960007</td>\n",
       "      <td>7.458826e+07</td>\n",
       "      <td>148.960007</td>\n",
       "    </tr>\n",
       "  </tbody>\n",
       "</table>\n",
       "<p>6757 rows × 6 columns</p>\n",
       "</div>"
      ],
      "text/plain": [
       "                  High         Low        Open       Close        Volume  \\\n",
       "Date                                                                       \n",
       "1995-01-03    0.347098    0.338170    0.347098    0.342634  1.038688e+08   \n",
       "1995-01-04    0.353795    0.344866    0.344866    0.351563  1.586816e+08   \n",
       "1995-01-05    0.351563    0.345982    0.350446    0.347098  7.364000e+07   \n",
       "1995-01-06    0.385045    0.367188    0.371652    0.375000  1.076622e+09   \n",
       "1995-01-09    0.373884    0.366071    0.371652    0.367885  2.740864e+08   \n",
       "...                ...         ...         ...         ...           ...   \n",
       "2021-10-26  150.839996  149.009995  149.330002  149.320007  6.089340e+07   \n",
       "2021-10-27  149.729996  148.490005  149.360001  148.850006  5.609490e+07   \n",
       "2021-10-28  153.169998  149.720001  149.820007  152.570007  1.000779e+08   \n",
       "2021-10-29  149.940002  146.410004  147.220001  149.800003  1.248504e+08   \n",
       "2021-11-01  149.699997  147.800003  148.985001  148.960007  7.458826e+07   \n",
       "\n",
       "             Adj Close  \n",
       "Date                    \n",
       "1995-01-03    0.290871  \n",
       "1995-01-04    0.298451  \n",
       "1995-01-05    0.294660  \n",
       "1995-01-06    0.318347  \n",
       "1995-01-09    0.312307  \n",
       "...                ...  \n",
       "2021-10-26  149.320007  \n",
       "2021-10-27  148.850006  \n",
       "2021-10-28  152.570007  \n",
       "2021-10-29  149.800003  \n",
       "2021-11-01  148.960007  \n",
       "\n",
       "[6757 rows x 6 columns]"
      ]
     },
     "execution_count": 6,
     "metadata": {},
     "output_type": "execute_result"
    }
   ],
   "source": [
    "AAPL = wb.DataReader('AAPL', data_source= 'yahoo', start='1995-1-1') # Apple's stock, time series, recorded price\n",
    "AAPL\n",
    "\n",
    "#Close and Adj close: will be different due to dividends paid\n",
    "# Weekends and national holidays not included - includes trading days only "
   ]
  },
  {
   "cell_type": "markdown",
   "metadata": {},
   "source": [
    "Online soruces for financial: online and free \n",
    "python for finance"
   ]
  },
  {
   "cell_type": "code",
   "execution_count": 7,
   "metadata": {},
   "outputs": [
    {
     "name": "stdout",
     "output_type": "stream",
     "text": [
      "<class 'pandas.core.frame.DataFrame'>\n",
      "DatetimeIndex: 6757 entries, 1995-01-03 to 2021-11-01\n",
      "Data columns (total 6 columns):\n",
      " #   Column     Non-Null Count  Dtype  \n",
      "---  ------     --------------  -----  \n",
      " 0   High       6757 non-null   float64\n",
      " 1   Low        6757 non-null   float64\n",
      " 2   Open       6757 non-null   float64\n",
      " 3   Close      6757 non-null   float64\n",
      " 4   Volume     6757 non-null   float64\n",
      " 5   Adj Close  6757 non-null   float64\n",
      "dtypes: float64(6)\n",
      "memory usage: 369.5 KB\n"
     ]
    }
   ],
   "source": [
    "AAPL.info()\n",
    "#we can see how many entries there are : 6749\n",
    "# Time span of the data\n",
    "# Number of data points, all rows are the same therefore, no missing data \n",
    "# all data type are floats"
   ]
  },
  {
   "cell_type": "code",
   "execution_count": 8,
   "metadata": {},
   "outputs": [
    {
     "data": {
      "text/html": [
       "<div>\n",
       "<style scoped>\n",
       "    .dataframe tbody tr th:only-of-type {\n",
       "        vertical-align: middle;\n",
       "    }\n",
       "\n",
       "    .dataframe tbody tr th {\n",
       "        vertical-align: top;\n",
       "    }\n",
       "\n",
       "    .dataframe thead th {\n",
       "        text-align: right;\n",
       "    }\n",
       "</style>\n",
       "<table border=\"1\" class=\"dataframe\">\n",
       "  <thead>\n",
       "    <tr style=\"text-align: right;\">\n",
       "      <th></th>\n",
       "      <th>High</th>\n",
       "      <th>Low</th>\n",
       "      <th>Open</th>\n",
       "      <th>Close</th>\n",
       "      <th>Volume</th>\n",
       "      <th>Adj Close</th>\n",
       "    </tr>\n",
       "    <tr>\n",
       "      <th>Date</th>\n",
       "      <th></th>\n",
       "      <th></th>\n",
       "      <th></th>\n",
       "      <th></th>\n",
       "      <th></th>\n",
       "      <th></th>\n",
       "    </tr>\n",
       "  </thead>\n",
       "  <tbody>\n",
       "    <tr>\n",
       "      <th>1995-01-03</th>\n",
       "      <td>0.347098</td>\n",
       "      <td>0.338170</td>\n",
       "      <td>0.347098</td>\n",
       "      <td>0.342634</td>\n",
       "      <td>1.038688e+08</td>\n",
       "      <td>0.290871</td>\n",
       "    </tr>\n",
       "    <tr>\n",
       "      <th>1995-01-04</th>\n",
       "      <td>0.353795</td>\n",
       "      <td>0.344866</td>\n",
       "      <td>0.344866</td>\n",
       "      <td>0.351563</td>\n",
       "      <td>1.586816e+08</td>\n",
       "      <td>0.298451</td>\n",
       "    </tr>\n",
       "    <tr>\n",
       "      <th>1995-01-05</th>\n",
       "      <td>0.351563</td>\n",
       "      <td>0.345982</td>\n",
       "      <td>0.350446</td>\n",
       "      <td>0.347098</td>\n",
       "      <td>7.364000e+07</td>\n",
       "      <td>0.294660</td>\n",
       "    </tr>\n",
       "    <tr>\n",
       "      <th>1995-01-06</th>\n",
       "      <td>0.385045</td>\n",
       "      <td>0.367188</td>\n",
       "      <td>0.371652</td>\n",
       "      <td>0.375000</td>\n",
       "      <td>1.076622e+09</td>\n",
       "      <td>0.318347</td>\n",
       "    </tr>\n",
       "    <tr>\n",
       "      <th>1995-01-09</th>\n",
       "      <td>0.373884</td>\n",
       "      <td>0.366071</td>\n",
       "      <td>0.371652</td>\n",
       "      <td>0.367885</td>\n",
       "      <td>2.740864e+08</td>\n",
       "      <td>0.312307</td>\n",
       "    </tr>\n",
       "  </tbody>\n",
       "</table>\n",
       "</div>"
      ],
      "text/plain": [
       "                High       Low      Open     Close        Volume  Adj Close\n",
       "Date                                                                       \n",
       "1995-01-03  0.347098  0.338170  0.347098  0.342634  1.038688e+08   0.290871\n",
       "1995-01-04  0.353795  0.344866  0.344866  0.351563  1.586816e+08   0.298451\n",
       "1995-01-05  0.351563  0.345982  0.350446  0.347098  7.364000e+07   0.294660\n",
       "1995-01-06  0.385045  0.367188  0.371652  0.375000  1.076622e+09   0.318347\n",
       "1995-01-09  0.373884  0.366071  0.371652  0.367885  2.740864e+08   0.312307"
      ]
     },
     "execution_count": 8,
     "metadata": {},
     "output_type": "execute_result"
    }
   ],
   "source": [
    "AAPL.head() # shows first 5 rows of the data"
   ]
  },
  {
   "cell_type": "code",
   "execution_count": 9,
   "metadata": {},
   "outputs": [
    {
     "data": {
      "text/html": [
       "<div>\n",
       "<style scoped>\n",
       "    .dataframe tbody tr th:only-of-type {\n",
       "        vertical-align: middle;\n",
       "    }\n",
       "\n",
       "    .dataframe tbody tr th {\n",
       "        vertical-align: top;\n",
       "    }\n",
       "\n",
       "    .dataframe thead th {\n",
       "        text-align: right;\n",
       "    }\n",
       "</style>\n",
       "<table border=\"1\" class=\"dataframe\">\n",
       "  <thead>\n",
       "    <tr style=\"text-align: right;\">\n",
       "      <th></th>\n",
       "      <th>High</th>\n",
       "      <th>Low</th>\n",
       "      <th>Open</th>\n",
       "      <th>Close</th>\n",
       "      <th>Volume</th>\n",
       "      <th>Adj Close</th>\n",
       "    </tr>\n",
       "    <tr>\n",
       "      <th>Date</th>\n",
       "      <th></th>\n",
       "      <th></th>\n",
       "      <th></th>\n",
       "      <th></th>\n",
       "      <th></th>\n",
       "      <th></th>\n",
       "    </tr>\n",
       "  </thead>\n",
       "  <tbody>\n",
       "    <tr>\n",
       "      <th>2021-10-26</th>\n",
       "      <td>150.839996</td>\n",
       "      <td>149.009995</td>\n",
       "      <td>149.330002</td>\n",
       "      <td>149.320007</td>\n",
       "      <td>60893400.0</td>\n",
       "      <td>149.320007</td>\n",
       "    </tr>\n",
       "    <tr>\n",
       "      <th>2021-10-27</th>\n",
       "      <td>149.729996</td>\n",
       "      <td>148.490005</td>\n",
       "      <td>149.360001</td>\n",
       "      <td>148.850006</td>\n",
       "      <td>56094900.0</td>\n",
       "      <td>148.850006</td>\n",
       "    </tr>\n",
       "    <tr>\n",
       "      <th>2021-10-28</th>\n",
       "      <td>153.169998</td>\n",
       "      <td>149.720001</td>\n",
       "      <td>149.820007</td>\n",
       "      <td>152.570007</td>\n",
       "      <td>100077900.0</td>\n",
       "      <td>152.570007</td>\n",
       "    </tr>\n",
       "    <tr>\n",
       "      <th>2021-10-29</th>\n",
       "      <td>149.940002</td>\n",
       "      <td>146.410004</td>\n",
       "      <td>147.220001</td>\n",
       "      <td>149.800003</td>\n",
       "      <td>124850400.0</td>\n",
       "      <td>149.800003</td>\n",
       "    </tr>\n",
       "    <tr>\n",
       "      <th>2021-11-01</th>\n",
       "      <td>149.699997</td>\n",
       "      <td>147.800003</td>\n",
       "      <td>148.985001</td>\n",
       "      <td>148.960007</td>\n",
       "      <td>74588258.0</td>\n",
       "      <td>148.960007</td>\n",
       "    </tr>\n",
       "  </tbody>\n",
       "</table>\n",
       "</div>"
      ],
      "text/plain": [
       "                  High         Low        Open       Close       Volume  \\\n",
       "Date                                                                      \n",
       "2021-10-26  150.839996  149.009995  149.330002  149.320007   60893400.0   \n",
       "2021-10-27  149.729996  148.490005  149.360001  148.850006   56094900.0   \n",
       "2021-10-28  153.169998  149.720001  149.820007  152.570007  100077900.0   \n",
       "2021-10-29  149.940002  146.410004  147.220001  149.800003  124850400.0   \n",
       "2021-11-01  149.699997  147.800003  148.985001  148.960007   74588258.0   \n",
       "\n",
       "             Adj Close  \n",
       "Date                    \n",
       "2021-10-26  149.320007  \n",
       "2021-10-27  148.850006  \n",
       "2021-10-28  152.570007  \n",
       "2021-10-29  149.800003  \n",
       "2021-11-01  148.960007  "
      ]
     },
     "execution_count": 9,
     "metadata": {},
     "output_type": "execute_result"
    }
   ],
   "source": [
    "AAPL.tail() # shows last 5 rows of the data"
   ]
  },
  {
   "cell_type": "markdown",
   "metadata": {},
   "source": [
    "How can we create data set- of 5 different companies: representing the adjusted closing price.\n",
    "Repeat the same process, but need only last column\n",
    "\n",
    "Step 1: Ticker symbol, create a dictionary of the keys \n",
    "Step 2: Create a data frame from pandas and call it new_data\n",
    "Step 3: Iteration, for every ticker in tickers (using t for shortcut), provide me with a adj close for each ticker for each day\n",
    "Step 4: To new data with index of t, assign the outcome of the data reader funciton for t(new data object) for yahoo"
   ]
  },
  {
   "cell_type": "code",
   "execution_count": 10,
   "metadata": {},
   "outputs": [],
   "source": [
    "tickers = ['AAPL', 'GM', 'TSLA','NNDM','MARA']\n",
    "new_data = pd.DataFrame()\n",
    "for t in tickers: \n",
    "    new_data[t] = wb.DataReader(t, data_source='yahoo', start='1995-1-1')['Adj Close']"
   ]
  },
  {
   "cell_type": "code",
   "execution_count": 11,
   "metadata": {},
   "outputs": [
    {
     "data": {
      "text/html": [
       "<div>\n",
       "<style scoped>\n",
       "    .dataframe tbody tr th:only-of-type {\n",
       "        vertical-align: middle;\n",
       "    }\n",
       "\n",
       "    .dataframe tbody tr th {\n",
       "        vertical-align: top;\n",
       "    }\n",
       "\n",
       "    .dataframe thead th {\n",
       "        text-align: right;\n",
       "    }\n",
       "</style>\n",
       "<table border=\"1\" class=\"dataframe\">\n",
       "  <thead>\n",
       "    <tr style=\"text-align: right;\">\n",
       "      <th></th>\n",
       "      <th>AAPL</th>\n",
       "      <th>GM</th>\n",
       "      <th>TSLA</th>\n",
       "      <th>NNDM</th>\n",
       "      <th>MARA</th>\n",
       "    </tr>\n",
       "    <tr>\n",
       "      <th>Date</th>\n",
       "      <th></th>\n",
       "      <th></th>\n",
       "      <th></th>\n",
       "      <th></th>\n",
       "      <th></th>\n",
       "    </tr>\n",
       "  </thead>\n",
       "  <tbody>\n",
       "    <tr>\n",
       "      <th>2021-10-26</th>\n",
       "      <td>149.320007</td>\n",
       "      <td>57.369999</td>\n",
       "      <td>1018.429993</td>\n",
       "      <td>5.89</td>\n",
       "      <td>52.860001</td>\n",
       "    </tr>\n",
       "    <tr>\n",
       "      <th>2021-10-27</th>\n",
       "      <td>148.850006</td>\n",
       "      <td>54.259998</td>\n",
       "      <td>1037.859985</td>\n",
       "      <td>5.70</td>\n",
       "      <td>50.040001</td>\n",
       "    </tr>\n",
       "    <tr>\n",
       "      <th>2021-10-28</th>\n",
       "      <td>152.570007</td>\n",
       "      <td>54.240002</td>\n",
       "      <td>1077.040039</td>\n",
       "      <td>5.88</td>\n",
       "      <td>50.389999</td>\n",
       "    </tr>\n",
       "    <tr>\n",
       "      <th>2021-10-29</th>\n",
       "      <td>149.800003</td>\n",
       "      <td>54.430000</td>\n",
       "      <td>1114.000000</td>\n",
       "      <td>5.88</td>\n",
       "      <td>52.240002</td>\n",
       "    </tr>\n",
       "    <tr>\n",
       "      <th>2021-11-01</th>\n",
       "      <td>148.960007</td>\n",
       "      <td>55.490002</td>\n",
       "      <td>1208.589966</td>\n",
       "      <td>6.28</td>\n",
       "      <td>55.509998</td>\n",
       "    </tr>\n",
       "  </tbody>\n",
       "</table>\n",
       "</div>"
      ],
      "text/plain": [
       "                  AAPL         GM         TSLA  NNDM       MARA\n",
       "Date                                                           \n",
       "2021-10-26  149.320007  57.369999  1018.429993  5.89  52.860001\n",
       "2021-10-27  148.850006  54.259998  1037.859985  5.70  50.040001\n",
       "2021-10-28  152.570007  54.240002  1077.040039  5.88  50.389999\n",
       "2021-10-29  149.800003  54.430000  1114.000000  5.88  52.240002\n",
       "2021-11-01  148.960007  55.490002  1208.589966  6.28  55.509998"
      ]
     },
     "execution_count": 11,
     "metadata": {},
     "output_type": "execute_result"
    }
   ],
   "source": [
    "new_data.tail()"
   ]
  },
  {
   "cell_type": "markdown",
   "metadata": {},
   "source": [
    "Indexing: since we work with time-series \n",
    "python automatically has default integer index \n",
    "1. create index (to create index while importing excel, just use: index_col = 'Date'[if data is what you want to index])\n",
    "If python automaticaly put index numbers, use dataframename.set_index(\"Column name you want to index\")"
   ]
  },
  {
   "cell_type": "markdown",
   "metadata": {},
   "source": [
    "When we think of investment: Advantages and Disadvantages \n",
    "Profit: expectations\n",
    "Loss: risk\n",
    "Why different levels of risk and profitability?\n",
    "Bonds : Average rate of return of 3%, few cases of government going bankrupt, low risk , initial investment plus interest\n",
    "Stocks: higher rate of return of 6%, fluctuations and price changes: operation , environment and other affect the price, higher return are at higher risks\n",
    "The art of finance is all about making informed decisions: optimizing portfolio "
   ]
  },
  {
   "cell_type": "markdown",
   "metadata": {},
   "source": [
    "How to calculate: risk \n",
    "1. Rates of return: calculate for single security \n",
    "2. Rate of return of a portfolio of securities\n",
    "3. Risk, sd, and variance\n",
    "4. Correlation and Covariance\n",
    "5. Regression - how to run a regression and how important r^2 is \n",
    "6. Portfolio theory: capital asset pricing model. How to calculate companies capital \n",
    "7. Monte Carlo Simulation: Stock pricing, etc "
   ]
  },
  {
   "cell_type": "markdown",
   "metadata": {},
   "source": [
    "1. Rate of Retun: \n",
    "Bought 1 share of AAPl: Buying price : 105 End of year price: $116: If you sell your share, you get $11 \n",
    "Is that a lot? Should you be happy?\n",
    "Compare this with other stocks, different stocks have differeent prcies, therefore, we need a measure that can compare different stocks with different prices\n",
    "\n",
    "Step 1: Calculate a percent rate of return of the investment to compare to other investment \n",
    "Rate of return = ending price - beginnning price / beginning price \n",
    "eg: 116 - 105/105 = 10.5% rate of return (simple rate of return)\n",
    "\n",
    "Log return of investment: log (116/105) = log 116 - log 105 -> 10%, log returns are different results \n",
    "\n",
    "Simple vs. log : use one for all \n",
    "Simple: Are preferred when dealing with multiple assets over the same time frame \n",
    "Log: Are preferred when making calcualtions about a single asset over time \n",
    "\n",
    "Always remember the timeframe for the caluculated return: investment of different holding period shouldnt be compared \n",
    "- Annually: annual return = [(daily reutn + 1)^365] * 100 <- covnerts daily, monthly and quarterly returns to yearly\n",
    "\n",
    "\n",
    "Rate of Return: \n",
    "Historical <- \n",
    "Expected <- reasonable proxy and call it expected, by looking at the historical performance, Future rates of returns"
   ]
  },
  {
   "cell_type": "markdown",
   "metadata": {},
   "source": [
    "Calculate securities rate of return"
   ]
  },
  {
   "cell_type": "code",
   "execution_count": 12,
   "metadata": {},
   "outputs": [],
   "source": [
    "import numpy as np\n",
    "from pandas_datareader import data as wb\n",
    "import matplotlib.pyplot as plt"
   ]
  },
  {
   "cell_type": "markdown",
   "metadata": {},
   "source": [
    "Today's price(day 1) / Yesterday's price(day 0) -1"
   ]
  },
  {
   "cell_type": "code",
   "execution_count": 13,
   "metadata": {},
   "outputs": [
    {
     "data": {
      "text/plain": [
       "Date\n",
       "1995-01-03         NaN\n",
       "1995-01-04    0.026060\n",
       "1995-01-05   -0.012700\n",
       "1995-01-06    0.080387\n",
       "1995-01-09   -0.018974\n",
       "                ...   \n",
       "2021-10-26    0.004575\n",
       "2021-10-27   -0.003148\n",
       "2021-10-28    0.024992\n",
       "2021-10-29   -0.018156\n",
       "2021-11-01   -0.005607\n",
       "Name: simple_return, Length: 6757, dtype: float64"
      ]
     },
     "execution_count": 13,
     "metadata": {},
     "output_type": "execute_result"
    }
   ],
   "source": [
    "AAPL['simple_return'] = (AAPL['Adj Close'] / AAPL['Adj Close'].shift(1)) -1  #shift function is previous day(1: determines the number of lags)\n",
    "AAPL['simple_return']"
   ]
  },
  {
   "cell_type": "markdown",
   "metadata": {},
   "source": [
    "We obtained a serries of data, percentage daily changes of the adjusted closing prices. Most days numbers are low\n",
    "NaN- not a number (first trading day)\n",
    "\n",
    "Plot in a graph: daily returns, most significant daily observations: mainly negative\n",
    "Positive return accumulate over time, and increases price share"
   ]
  },
  {
   "cell_type": "code",
   "execution_count": 14,
   "metadata": {},
   "outputs": [
    {
     "data": {
      "text/plain": [
       "<AxesSubplot:xlabel='Date'>"
      ]
     },
     "execution_count": 14,
     "metadata": {},
     "output_type": "execute_result"
    },
    {
     "data": {
      "image/png": "[encoded data removed]",
      "text/plain": [
       "<Figure size 576x360 with 1 Axes>"
      ]
     },
     "metadata": {
      "needs_background": "light"
     },
     "output_type": "display_data"
    }
   ],
   "source": [
    "AAPL['simple_return'].plot(figsize = (8,5))#Size of the graph in the output"
   ]
  },
  {
   "cell_type": "markdown",
   "metadata": {},
   "source": [
    "Average rate of return a stock will have. \n",
    "Much lower than 1%, an average annual rate of return will tell us more and give us more interpretability "
   ]
  },
  {
   "cell_type": "code",
   "execution_count": 15,
   "metadata": {},
   "outputs": [
    {
     "data": {
      "text/plain": [
       "0.001310223305483131"
      ]
     },
     "execution_count": 15,
     "metadata": {},
     "output_type": "execute_result"
    }
   ],
   "source": [
    "avg_return_d = AAPL['simple_return'].mean()\n",
    "avg_return_d"
   ]
  },
  {
   "cell_type": "code",
   "execution_count": 16,
   "metadata": {},
   "outputs": [
    {
     "data": {
      "text/plain": [
       "'33.0%'"
      ]
     },
     "execution_count": 16,
     "metadata": {},
     "output_type": "execute_result"
    }
   ],
   "source": [
    "avg_return_a = AAPL['simple_return'].mean() * 250 #trading days per year is 250\n",
    "avg_return_a \n",
    "\n",
    "str(round(avg_return_a,2)* 100) + '%'"
   ]
  },
  {
   "cell_type": "markdown",
   "metadata": {},
   "source": [
    "Alternative Way to calculate returns: Log\n",
    "Log: Single stock : log returns, from 1995 until today"
   ]
  },
  {
   "cell_type": "code",
   "execution_count": 17,
   "metadata": {},
   "outputs": [
    {
     "data": {
      "text/plain": [
       "Date\n",
       "1995-01-03         NaN\n",
       "1995-01-04    0.025726\n",
       "1995-01-05   -0.012782\n",
       "1995-01-06    0.077319\n",
       "1995-01-09   -0.019156\n",
       "                ...   \n",
       "2021-10-26    0.004564\n",
       "2021-10-27   -0.003153\n",
       "2021-10-28    0.024684\n",
       "2021-10-29   -0.018322\n",
       "2021-11-01   -0.005623\n",
       "Name: log_return, Length: 6757, dtype: float64"
      ]
     },
     "execution_count": 17,
     "metadata": {},
     "output_type": "execute_result"
    }
   ],
   "source": [
    "AAPL['log_return'] = np.log(AAPL['Adj Close'] / AAPL['Adj Close'].shift(1))\n",
    "AAPL['log_return'] #most values are less than 1% "
   ]
  },
  {
   "cell_type": "code",
   "execution_count": 18,
   "metadata": {},
   "outputs": [
    {
     "data": {
      "text/plain": [
       "<function matplotlib.pyplot.show(close=None, block=None)>"
      ]
     },
     "execution_count": 18,
     "metadata": {},
     "output_type": "execute_result"
    },
    {
     "data": {
      "image/png": "[encoded data removed]",
      "text/plain": [
       "<Figure size 576x360 with 1 Axes>"
      ]
     },
     "metadata": {
      "needs_background": "light"
     },
     "output_type": "display_data"
    }
   ],
   "source": [
    "AAPL['log_return'].plot(figsize=(8,5))\n",
    "plt.show"
   ]
  },
  {
   "cell_type": "code",
   "execution_count": 19,
   "metadata": {},
   "outputs": [
    {
     "data": {
      "text/plain": [
       "0.0009234094903298959"
      ]
     },
     "execution_count": 19,
     "metadata": {},
     "output_type": "execute_result"
    }
   ],
   "source": [
    "log_return_d = AAPL['log_return'].mean()\n",
    "log_return_d"
   ]
  },
  {
   "cell_type": "code",
   "execution_count": 20,
   "metadata": {},
   "outputs": [
    {
     "data": {
      "text/plain": [
       "0.23085237258247396"
      ]
     },
     "execution_count": 20,
     "metadata": {},
     "output_type": "execute_result"
    }
   ],
   "source": [
    "log_return_a = AAPL['log_return'].mean() * 250\n",
    "log_return_a"
   ]
  },
  {
   "cell_type": "code",
   "execution_count": 21,
   "metadata": {},
   "outputs": [
    {
     "data": {
      "text/plain": [
       "'23.085%'"
      ]
     },
     "execution_count": 21,
     "metadata": {},
     "output_type": "execute_result"
    }
   ],
   "source": [
    "str(round(log_return_a, 5)* 100) + \"%\""
   ]
  },
  {
   "cell_type": "markdown",
   "metadata": {},
   "source": [
    "Use simple returns to calculate multiple returns for the same period \n",
    "Log return: use this when we have one security and needs to calculate over multiple time periods"
   ]
  },
  {
   "cell_type": "markdown",
   "metadata": {},
   "source": [
    "Calculating the rate of return of a portfolio \n",
    "Average annual rate of return is provided: \n",
    "AAPL: 0.318524 *25% = 0.079631\n",
    "IBM: 0.153581* 25% = 0.038395\n",
    "GE: 0.116717* 25% = 0.029179\n",
    "Ford: 0.126224* 25% = 0.031556\n",
    "\n",
    "Add up all the returns = 0.178761\n",
    "\n",
    "Calculate historical rate of return: Expected rate of return in the future \n",
    "rate of return for a security * weight in portfolio \n",
    "- if stocks are equally distributed: each stocks weight will be 25%\n",
    "#Calculation same for not equally wighted portfolio"
   ]
  },
  {
   "cell_type": "code",
   "execution_count": 22,
   "metadata": {},
   "outputs": [],
   "source": [
    "tickers = ['AAPL', 'MSFT', 'F','GE']\n",
    "my_data = pd.DataFrame()\n",
    "for t in tickers: \n",
    "    my_data[t] = wb.DataReader(t, data_source='yahoo', start='1995-1-1')['Adj Close']"
   ]
  },
  {
   "cell_type": "code",
   "execution_count": 23,
   "metadata": {},
   "outputs": [
    {
     "name": "stdout",
     "output_type": "stream",
     "text": [
      "<class 'pandas.core.frame.DataFrame'>\n",
      "DatetimeIndex: 6757 entries, 1995-01-03 to 2021-11-01\n",
      "Data columns (total 4 columns):\n",
      " #   Column  Non-Null Count  Dtype  \n",
      "---  ------  --------------  -----  \n",
      " 0   AAPL    6757 non-null   float64\n",
      " 1   MSFT    6757 non-null   float64\n",
      " 2   F       6757 non-null   float64\n",
      " 3   GE      6757 non-null   float64\n",
      "dtypes: float64(4)\n",
      "memory usage: 263.9 KB\n"
     ]
    }
   ],
   "source": [
    "my_data.info()"
   ]
  },
  {
   "cell_type": "code",
   "execution_count": 24,
   "metadata": {},
   "outputs": [
    {
     "data": {
      "text/html": [
       "<div>\n",
       "<style scoped>\n",
       "    .dataframe tbody tr th:only-of-type {\n",
       "        vertical-align: middle;\n",
       "    }\n",
       "\n",
       "    .dataframe tbody tr th {\n",
       "        vertical-align: top;\n",
       "    }\n",
       "\n",
       "    .dataframe thead th {\n",
       "        text-align: right;\n",
       "    }\n",
       "</style>\n",
       "<table border=\"1\" class=\"dataframe\">\n",
       "  <thead>\n",
       "    <tr style=\"text-align: right;\">\n",
       "      <th></th>\n",
       "      <th>AAPL</th>\n",
       "      <th>MSFT</th>\n",
       "      <th>F</th>\n",
       "      <th>GE</th>\n",
       "    </tr>\n",
       "    <tr>\n",
       "      <th>Date</th>\n",
       "      <th></th>\n",
       "      <th></th>\n",
       "      <th></th>\n",
       "      <th></th>\n",
       "    </tr>\n",
       "  </thead>\n",
       "  <tbody>\n",
       "    <tr>\n",
       "      <th>1995-01-03</th>\n",
       "      <td>0.290871</td>\n",
       "      <td>2.379200</td>\n",
       "      <td>4.380181</td>\n",
       "      <td>32.906116</td>\n",
       "    </tr>\n",
       "    <tr>\n",
       "      <th>1995-01-04</th>\n",
       "      <td>0.298451</td>\n",
       "      <td>2.396494</td>\n",
       "      <td>4.498034</td>\n",
       "      <td>32.906116</td>\n",
       "    </tr>\n",
       "    <tr>\n",
       "      <th>1995-01-05</th>\n",
       "      <td>0.294660</td>\n",
       "      <td>2.356963</td>\n",
       "      <td>4.458751</td>\n",
       "      <td>32.986744</td>\n",
       "    </tr>\n",
       "    <tr>\n",
       "      <th>1995-01-06</th>\n",
       "      <td>0.318347</td>\n",
       "      <td>2.396494</td>\n",
       "      <td>4.458751</td>\n",
       "      <td>32.825462</td>\n",
       "    </tr>\n",
       "    <tr>\n",
       "      <th>1995-01-09</th>\n",
       "      <td>0.312307</td>\n",
       "      <td>2.381670</td>\n",
       "      <td>4.537321</td>\n",
       "      <td>32.502853</td>\n",
       "    </tr>\n",
       "  </tbody>\n",
       "</table>\n",
       "</div>"
      ],
      "text/plain": [
       "                AAPL      MSFT         F         GE\n",
       "Date                                               \n",
       "1995-01-03  0.290871  2.379200  4.380181  32.906116\n",
       "1995-01-04  0.298451  2.396494  4.498034  32.906116\n",
       "1995-01-05  0.294660  2.356963  4.458751  32.986744\n",
       "1995-01-06  0.318347  2.396494  4.458751  32.825462\n",
       "1995-01-09  0.312307  2.381670  4.537321  32.502853"
      ]
     },
     "execution_count": 24,
     "metadata": {},
     "output_type": "execute_result"
    }
   ],
   "source": [
    "my_data.head()"
   ]
  },
  {
   "cell_type": "code",
   "execution_count": 25,
   "metadata": {},
   "outputs": [
    {
     "data": {
      "text/html": [
       "<div>\n",
       "<style scoped>\n",
       "    .dataframe tbody tr th:only-of-type {\n",
       "        vertical-align: middle;\n",
       "    }\n",
       "\n",
       "    .dataframe tbody tr th {\n",
       "        vertical-align: top;\n",
       "    }\n",
       "\n",
       "    .dataframe thead th {\n",
       "        text-align: right;\n",
       "    }\n",
       "</style>\n",
       "<table border=\"1\" class=\"dataframe\">\n",
       "  <thead>\n",
       "    <tr style=\"text-align: right;\">\n",
       "      <th></th>\n",
       "      <th>AAPL</th>\n",
       "      <th>MSFT</th>\n",
       "      <th>F</th>\n",
       "      <th>GE</th>\n",
       "    </tr>\n",
       "    <tr>\n",
       "      <th>Date</th>\n",
       "      <th></th>\n",
       "      <th></th>\n",
       "      <th></th>\n",
       "      <th></th>\n",
       "    </tr>\n",
       "  </thead>\n",
       "  <tbody>\n",
       "    <tr>\n",
       "      <th>2021-10-26</th>\n",
       "      <td>149.320007</td>\n",
       "      <td>310.109985</td>\n",
       "      <td>15.940000</td>\n",
       "      <td>107.440002</td>\n",
       "    </tr>\n",
       "    <tr>\n",
       "      <th>2021-10-27</th>\n",
       "      <td>148.850006</td>\n",
       "      <td>323.170013</td>\n",
       "      <td>15.510000</td>\n",
       "      <td>103.849998</td>\n",
       "    </tr>\n",
       "    <tr>\n",
       "      <th>2021-10-28</th>\n",
       "      <td>152.570007</td>\n",
       "      <td>324.350006</td>\n",
       "      <td>16.860001</td>\n",
       "      <td>105.260002</td>\n",
       "    </tr>\n",
       "    <tr>\n",
       "      <th>2021-10-29</th>\n",
       "      <td>149.800003</td>\n",
       "      <td>331.619995</td>\n",
       "      <td>17.080000</td>\n",
       "      <td>104.870003</td>\n",
       "    </tr>\n",
       "    <tr>\n",
       "      <th>2021-11-01</th>\n",
       "      <td>148.960007</td>\n",
       "      <td>329.369995</td>\n",
       "      <td>17.950001</td>\n",
       "      <td>106.230003</td>\n",
       "    </tr>\n",
       "  </tbody>\n",
       "</table>\n",
       "</div>"
      ],
      "text/plain": [
       "                  AAPL        MSFT          F          GE\n",
       "Date                                                     \n",
       "2021-10-26  149.320007  310.109985  15.940000  107.440002\n",
       "2021-10-27  148.850006  323.170013  15.510000  103.849998\n",
       "2021-10-28  152.570007  324.350006  16.860001  105.260002\n",
       "2021-10-29  149.800003  331.619995  17.080000  104.870003\n",
       "2021-11-01  148.960007  329.369995  17.950001  106.230003"
      ]
     },
     "execution_count": 25,
     "metadata": {},
     "output_type": "execute_result"
    }
   ],
   "source": [
    "my_data.tail()"
   ]
  },
  {
   "cell_type": "markdown",
   "metadata": {},
   "source": [
    "Create a line chart to see how the securities performed \n",
    "P1 / P0 *100 <= helps us normalize the data to 100\n",
    "The formula will find the adjusted cloase value of a certain date from the first number and multiply the quotient by 100 - normalize it to 100 \n",
    "The first row/first row will always be 1. Therefore, 100"
   ]
  },
  {
   "cell_type": "code",
   "execution_count": 26,
   "metadata": {},
   "outputs": [
    {
     "data": {
      "text/plain": [
       "AAPL     0.290871\n",
       "MSFT     2.379200\n",
       "F        4.380181\n",
       "GE      32.906116\n",
       "Name: 1995-01-03 00:00:00, dtype: float64"
      ]
     },
     "execution_count": 26,
     "metadata": {},
     "output_type": "execute_result"
    }
   ],
   "source": [
    "my_data.iloc[0] # The iloc[0] indexing with 0, will extract the data from the first column of the table"
   ]
  },
  {
   "cell_type": "code",
   "execution_count": 27,
   "metadata": {},
   "outputs": [
    {
     "data": {
      "text/plain": [
       "<function matplotlib.pyplot.show(close=None, block=None)>"
      ]
     },
     "execution_count": 27,
     "metadata": {},
     "output_type": "execute_result"
    },
    {
     "data": {
      "image/png": "[encoded data removed]",
      "text/plain": [
       "<Figure size 1080x432 with 1 Axes>"
      ]
     },
     "metadata": {
      "needs_background": "light"
     },
     "output_type": "display_data"
    }
   ],
   "source": [
    "(my_data/my_data.iloc[0]*100).plot(figsize = (15,6)); \n",
    "plt.show\n",
    "#Here in the graph, all graphs start from the vertical axis and point starts at 100\n",
    "#The idea behind this is to compare the behavior between these 4 different stocks as if they were all starting from the same value, 100"
   ]
  },
  {
   "cell_type": "code",
   "execution_count": 28,
   "metadata": {},
   "outputs": [
    {
     "data": {
      "text/plain": [
       "<AxesSubplot:xlabel='Date'>"
      ]
     },
     "execution_count": 28,
     "metadata": {},
     "output_type": "execute_result"
    },
    {
     "data": {
      "image/png": "[encoded data removed]",
      "text/plain": [
       "<Figure size 1080x432 with 1 Axes>"
      ]
     },
     "metadata": {
      "needs_background": "light"
     },
     "output_type": "display_data"
    }
   ],
   "source": [
    "my_data.plot(figsize = (15,6))\n",
    "#adjusted closing plotted directed, normalization tackels this issue \n",
    "# MSFT is the clear winner, beats other stocks performance. This graph helps us understand which stocks performed better, \n",
    "# historically\n"
   ]
  },
  {
   "cell_type": "code",
   "execution_count": 29,
   "metadata": {},
   "outputs": [
    {
     "data": {
      "text/plain": [
       "AAPL     0.290871\n",
       "MSFT     2.379200\n",
       "F        4.380181\n",
       "GE      32.906116\n",
       "Name: 1995-01-03 00:00:00, dtype: float64"
      ]
     },
     "execution_count": 29,
     "metadata": {},
     "output_type": "execute_result"
    }
   ],
   "source": [
    "my_data.loc['1995-01-03'] # to apply loc we need to indicate the precise location. Why? the dates are lables "
   ]
  },
  {
   "cell_type": "code",
   "execution_count": 30,
   "metadata": {},
   "outputs": [
    {
     "data": {
      "text/plain": [
       "AAPL     0.290871\n",
       "MSFT     2.379200\n",
       "F        4.380181\n",
       "GE      32.906116\n",
       "Name: 1995-01-03 00:00:00, dtype: float64"
      ]
     },
     "execution_count": 30,
     "metadata": {},
     "output_type": "execute_result"
    }
   ],
   "source": [
    "my_data.iloc[0]"
   ]
  },
  {
   "cell_type": "markdown",
   "metadata": {},
   "source": [
    "Calculate a simple return of these stocks by creating a new table.\n",
    "Why simple returns? it is a preferred way when we have multiple stocks of the same time period "
   ]
  },
  {
   "cell_type": "code",
   "execution_count": 31,
   "metadata": {},
   "outputs": [
    {
     "data": {
      "text/html": [
       "<div>\n",
       "<style scoped>\n",
       "    .dataframe tbody tr th:only-of-type {\n",
       "        vertical-align: middle;\n",
       "    }\n",
       "\n",
       "    .dataframe tbody tr th {\n",
       "        vertical-align: top;\n",
       "    }\n",
       "\n",
       "    .dataframe thead th {\n",
       "        text-align: right;\n",
       "    }\n",
       "</style>\n",
       "<table border=\"1\" class=\"dataframe\">\n",
       "  <thead>\n",
       "    <tr style=\"text-align: right;\">\n",
       "      <th></th>\n",
       "      <th>AAPL</th>\n",
       "      <th>MSFT</th>\n",
       "      <th>F</th>\n",
       "      <th>GE</th>\n",
       "    </tr>\n",
       "    <tr>\n",
       "      <th>Date</th>\n",
       "      <th></th>\n",
       "      <th></th>\n",
       "      <th></th>\n",
       "      <th></th>\n",
       "    </tr>\n",
       "  </thead>\n",
       "  <tbody>\n",
       "    <tr>\n",
       "      <th>1995-01-03</th>\n",
       "      <td>NaN</td>\n",
       "      <td>NaN</td>\n",
       "      <td>NaN</td>\n",
       "      <td>NaN</td>\n",
       "    </tr>\n",
       "    <tr>\n",
       "      <th>1995-01-04</th>\n",
       "      <td>0.026060</td>\n",
       "      <td>0.007269</td>\n",
       "      <td>0.026906</td>\n",
       "      <td>0.000000</td>\n",
       "    </tr>\n",
       "    <tr>\n",
       "      <th>1995-01-05</th>\n",
       "      <td>-0.012700</td>\n",
       "      <td>-0.016495</td>\n",
       "      <td>-0.008733</td>\n",
       "      <td>0.002450</td>\n",
       "    </tr>\n",
       "    <tr>\n",
       "      <th>1995-01-06</th>\n",
       "      <td>0.080386</td>\n",
       "      <td>0.016772</td>\n",
       "      <td>0.000000</td>\n",
       "      <td>-0.004889</td>\n",
       "    </tr>\n",
       "    <tr>\n",
       "      <th>1995-01-09</th>\n",
       "      <td>-0.018973</td>\n",
       "      <td>-0.006186</td>\n",
       "      <td>0.017622</td>\n",
       "      <td>-0.009828</td>\n",
       "    </tr>\n",
       "  </tbody>\n",
       "</table>\n",
       "</div>"
      ],
      "text/plain": [
       "                AAPL      MSFT         F        GE\n",
       "Date                                              \n",
       "1995-01-03       NaN       NaN       NaN       NaN\n",
       "1995-01-04  0.026060  0.007269  0.026906  0.000000\n",
       "1995-01-05 -0.012700 -0.016495 -0.008733  0.002450\n",
       "1995-01-06  0.080386  0.016772  0.000000 -0.004889\n",
       "1995-01-09 -0.018973 -0.006186  0.017622 -0.009828"
      ]
     },
     "execution_count": 31,
     "metadata": {},
     "output_type": "execute_result"
    }
   ],
   "source": [
    "returns = (my_data/my_data.shift(1)) - 1\n",
    "returns.head()"
   ]
  },
  {
   "cell_type": "code",
   "execution_count": 32,
   "metadata": {},
   "outputs": [],
   "source": [
    "weights = np.array([0.25,0.25,0.25,0.25]) #weights must always = 1"
   ]
  },
  {
   "cell_type": "code",
   "execution_count": 33,
   "metadata": {},
   "outputs": [
    {
     "data": {
      "text/plain": [
       "array([        nan,  0.01505861, -0.00886966, ...,  0.03231522,\n",
       "        0.00340047,  0.01287823])"
      ]
     },
     "execution_count": 33,
     "metadata": {},
     "output_type": "execute_result"
    }
   ],
   "source": [
    "np.dot(returns,weights) #allows us to calculate matrix or vector products strightaway \n",
    "#dot product : the output.\n",
    "# we are multiplying the returns we obtained and the weights\n",
    "# We got an entire array, because we multiplied the entire array instead of calculating the average of the entire portfolio \n",
    "#first"
   ]
  },
  {
   "cell_type": "code",
   "execution_count": 34,
   "metadata": {},
   "outputs": [
    {
     "data": {
      "text/plain": [
       "AAPL    0.327556\n",
       "MSFT    0.231566\n",
       "F       0.131871\n",
       "GE      0.094705\n",
       "dtype: float64"
      ]
     },
     "execution_count": 34,
     "metadata": {},
     "output_type": "execute_result"
    }
   ],
   "source": [
    "annual_returns = returns.mean() * 250 \n",
    "annual_returns # calculates the average annual returns of all the stocks "
   ]
  },
  {
   "cell_type": "code",
   "execution_count": 35,
   "metadata": {},
   "outputs": [
    {
     "data": {
      "text/plain": [
       "0.1964244573254696"
      ]
     },
     "execution_count": 35,
     "metadata": {},
     "output_type": "execute_result"
    }
   ],
   "source": [
    "np.dot(annual_returns, weights)"
   ]
  },
  {
   "cell_type": "code",
   "execution_count": 36,
   "metadata": {},
   "outputs": [
    {
     "name": "stdout",
     "output_type": "stream",
     "text": [
      "19.642%\n"
     ]
    }
   ],
   "source": [
    "pfolio_1 = str(round(np.dot(annual_returns, weights), 5) * 100) + '%'\n",
    "print (pfolio_1)"
   ]
  },
  {
   "cell_type": "code",
   "execution_count": 37,
   "metadata": {},
   "outputs": [
    {
     "name": "stdout",
     "output_type": "stream",
     "text": [
      "19.642%\n",
      "24.816%\n"
     ]
    }
   ],
   "source": [
    "weights_2 = np.array([0.4,0.4,0.15,0.05])\n",
    "pfolio_2 = str(round(np.dot(annual_returns, weights_2),5)*100) + '%'\n",
    "print(pfolio_1)\n",
    "print(pfolio_2)"
   ]
  },
  {
   "cell_type": "markdown",
   "metadata": {},
   "source": [
    "Market index: to provide an overall \n",
    "Stock Indices: If you want to understand if you want to see if the stock you have is good, compare the stock with the overall market performance \n",
    "Stock index: give you the type of return you can expect \n",
    "Indices: baskets composed of many stocks"
   ]
  },
  {
   "cell_type": "markdown",
   "metadata": {},
   "source": [
    "Calculating the Return of Indices "
   ]
  },
  {
   "cell_type": "code",
   "execution_count": 38,
   "metadata": {},
   "outputs": [],
   "source": [
    "import numpy as np \n",
    "import pandas as pd \n",
    "from pandas_datareader import data as wb\n",
    "import matplotlib as plt"
   ]
  },
  {
   "cell_type": "code",
   "execution_count": 39,
   "metadata": {},
   "outputs": [],
   "source": [
    "tickers = ['^GSPC', '^IXIC', '^DJI' ,'^RUT']\n",
    "ind_data = pd.DataFrame()\n",
    "\n",
    "for t in tickers: \n",
    "    ind_data[t] = wb.DataReader(t, data_source='yahoo', start='2021-1-1')['Adj Close']"
   ]
  },
  {
   "cell_type": "code",
   "execution_count": 40,
   "metadata": {},
   "outputs": [
    {
     "name": "stdout",
     "output_type": "stream",
     "text": [
      "<class 'pandas.core.frame.DataFrame'>\n",
      "DatetimeIndex: 210 entries, 2021-01-04 to 2021-11-01\n",
      "Data columns (total 4 columns):\n",
      " #   Column  Non-Null Count  Dtype  \n",
      "---  ------  --------------  -----  \n",
      " 0   ^GSPC   210 non-null    float64\n",
      " 1   ^IXIC   210 non-null    float64\n",
      " 2   ^DJI    210 non-null    float64\n",
      " 3   ^RUT    210 non-null    float64\n",
      "dtypes: float64(4)\n",
      "memory usage: 8.2 KB\n"
     ]
    }
   ],
   "source": [
    "ind_data.info()"
   ]
  },
  {
   "cell_type": "code",
   "execution_count": 41,
   "metadata": {},
   "outputs": [
    {
     "data": {
      "text/html": [
       "<div>\n",
       "<style scoped>\n",
       "    .dataframe tbody tr th:only-of-type {\n",
       "        vertical-align: middle;\n",
       "    }\n",
       "\n",
       "    .dataframe tbody tr th {\n",
       "        vertical-align: top;\n",
       "    }\n",
       "\n",
       "    .dataframe thead th {\n",
       "        text-align: right;\n",
       "    }\n",
       "</style>\n",
       "<table border=\"1\" class=\"dataframe\">\n",
       "  <thead>\n",
       "    <tr style=\"text-align: right;\">\n",
       "      <th></th>\n",
       "      <th>^GSPC</th>\n",
       "      <th>^IXIC</th>\n",
       "      <th>^DJI</th>\n",
       "      <th>^RUT</th>\n",
       "    </tr>\n",
       "    <tr>\n",
       "      <th>Date</th>\n",
       "      <th></th>\n",
       "      <th></th>\n",
       "      <th></th>\n",
       "      <th></th>\n",
       "    </tr>\n",
       "  </thead>\n",
       "  <tbody>\n",
       "    <tr>\n",
       "      <th>2021-01-04</th>\n",
       "      <td>3700.649902</td>\n",
       "      <td>12698.450195</td>\n",
       "      <td>30223.890625</td>\n",
       "      <td>1945.910034</td>\n",
       "    </tr>\n",
       "    <tr>\n",
       "      <th>2021-01-05</th>\n",
       "      <td>3726.860107</td>\n",
       "      <td>12818.959961</td>\n",
       "      <td>30391.599609</td>\n",
       "      <td>1979.109985</td>\n",
       "    </tr>\n",
       "    <tr>\n",
       "      <th>2021-01-06</th>\n",
       "      <td>3748.139893</td>\n",
       "      <td>12740.790039</td>\n",
       "      <td>30829.400391</td>\n",
       "      <td>2057.919922</td>\n",
       "    </tr>\n",
       "    <tr>\n",
       "      <th>2021-01-07</th>\n",
       "      <td>3803.790039</td>\n",
       "      <td>13067.480469</td>\n",
       "      <td>31041.130859</td>\n",
       "      <td>2096.889893</td>\n",
       "    </tr>\n",
       "    <tr>\n",
       "      <th>2021-01-08</th>\n",
       "      <td>3824.679932</td>\n",
       "      <td>13201.980469</td>\n",
       "      <td>31097.970703</td>\n",
       "      <td>2091.659912</td>\n",
       "    </tr>\n",
       "  </tbody>\n",
       "</table>\n",
       "</div>"
      ],
      "text/plain": [
       "                  ^GSPC         ^IXIC          ^DJI         ^RUT\n",
       "Date                                                            \n",
       "2021-01-04  3700.649902  12698.450195  30223.890625  1945.910034\n",
       "2021-01-05  3726.860107  12818.959961  30391.599609  1979.109985\n",
       "2021-01-06  3748.139893  12740.790039  30829.400391  2057.919922\n",
       "2021-01-07  3803.790039  13067.480469  31041.130859  2096.889893\n",
       "2021-01-08  3824.679932  13201.980469  31097.970703  2091.659912"
      ]
     },
     "execution_count": 41,
     "metadata": {},
     "output_type": "execute_result"
    }
   ],
   "source": [
    "ind_data.head()"
   ]
  },
  {
   "cell_type": "code",
   "execution_count": 42,
   "metadata": {},
   "outputs": [
    {
     "data": {
      "text/html": [
       "<div>\n",
       "<style scoped>\n",
       "    .dataframe tbody tr th:only-of-type {\n",
       "        vertical-align: middle;\n",
       "    }\n",
       "\n",
       "    .dataframe tbody tr th {\n",
       "        vertical-align: top;\n",
       "    }\n",
       "\n",
       "    .dataframe thead th {\n",
       "        text-align: right;\n",
       "    }\n",
       "</style>\n",
       "<table border=\"1\" class=\"dataframe\">\n",
       "  <thead>\n",
       "    <tr style=\"text-align: right;\">\n",
       "      <th></th>\n",
       "      <th>^GSPC</th>\n",
       "      <th>^IXIC</th>\n",
       "      <th>^DJI</th>\n",
       "      <th>^RUT</th>\n",
       "    </tr>\n",
       "    <tr>\n",
       "      <th>Date</th>\n",
       "      <th></th>\n",
       "      <th></th>\n",
       "      <th></th>\n",
       "      <th></th>\n",
       "    </tr>\n",
       "  </thead>\n",
       "  <tbody>\n",
       "    <tr>\n",
       "      <th>2021-10-26</th>\n",
       "      <td>4574.790039</td>\n",
       "      <td>15235.709961</td>\n",
       "      <td>35756.878906</td>\n",
       "      <td>2296.080078</td>\n",
       "    </tr>\n",
       "    <tr>\n",
       "      <th>2021-10-27</th>\n",
       "      <td>4551.680176</td>\n",
       "      <td>15235.839844</td>\n",
       "      <td>35490.691406</td>\n",
       "      <td>2252.489990</td>\n",
       "    </tr>\n",
       "    <tr>\n",
       "      <th>2021-10-28</th>\n",
       "      <td>4596.419922</td>\n",
       "      <td>15448.120117</td>\n",
       "      <td>35730.480469</td>\n",
       "      <td>2297.979980</td>\n",
       "    </tr>\n",
       "    <tr>\n",
       "      <th>2021-10-29</th>\n",
       "      <td>4605.379883</td>\n",
       "      <td>15498.389648</td>\n",
       "      <td>35819.558594</td>\n",
       "      <td>2297.189941</td>\n",
       "    </tr>\n",
       "    <tr>\n",
       "      <th>2021-11-01</th>\n",
       "      <td>4613.669922</td>\n",
       "      <td>15595.915039</td>\n",
       "      <td>35913.839844</td>\n",
       "      <td>2358.121094</td>\n",
       "    </tr>\n",
       "  </tbody>\n",
       "</table>\n",
       "</div>"
      ],
      "text/plain": [
       "                  ^GSPC         ^IXIC          ^DJI         ^RUT\n",
       "Date                                                            \n",
       "2021-10-26  4574.790039  15235.709961  35756.878906  2296.080078\n",
       "2021-10-27  4551.680176  15235.839844  35490.691406  2252.489990\n",
       "2021-10-28  4596.419922  15448.120117  35730.480469  2297.979980\n",
       "2021-10-29  4605.379883  15498.389648  35819.558594  2297.189941\n",
       "2021-11-01  4613.669922  15595.915039  35913.839844  2358.121094"
      ]
     },
     "execution_count": 42,
     "metadata": {},
     "output_type": "execute_result"
    }
   ],
   "source": [
    "ind_data.tail()"
   ]
  },
  {
   "cell_type": "code",
   "execution_count": 43,
   "metadata": {},
   "outputs": [
    {
     "data": {
      "image/png": "[encoded data removed]",
      "text/plain": [
       "<Figure size 1080x432 with 1 Axes>"
      ]
     },
     "metadata": {
      "needs_background": "light"
     },
     "output_type": "display_data"
    }
   ],
   "source": [
    "(ind_data/ind_data.iloc[0]*100).plot(figsize = (15,6));\n",
    "# General rise of the indeces value with occasional drop "
   ]
  },
  {
   "cell_type": "code",
   "execution_count": 44,
   "metadata": {},
   "outputs": [
    {
     "data": {
      "text/html": [
       "<div>\n",
       "<style scoped>\n",
       "    .dataframe tbody tr th:only-of-type {\n",
       "        vertical-align: middle;\n",
       "    }\n",
       "\n",
       "    .dataframe tbody tr th {\n",
       "        vertical-align: top;\n",
       "    }\n",
       "\n",
       "    .dataframe thead th {\n",
       "        text-align: right;\n",
       "    }\n",
       "</style>\n",
       "<table border=\"1\" class=\"dataframe\">\n",
       "  <thead>\n",
       "    <tr style=\"text-align: right;\">\n",
       "      <th></th>\n",
       "      <th>^GSPC</th>\n",
       "      <th>^IXIC</th>\n",
       "      <th>^DJI</th>\n",
       "      <th>^RUT</th>\n",
       "    </tr>\n",
       "    <tr>\n",
       "      <th>Date</th>\n",
       "      <th></th>\n",
       "      <th></th>\n",
       "      <th></th>\n",
       "      <th></th>\n",
       "    </tr>\n",
       "  </thead>\n",
       "  <tbody>\n",
       "    <tr>\n",
       "      <th>2021-10-26</th>\n",
       "      <td>0.001820</td>\n",
       "      <td>0.000591</td>\n",
       "      <td>0.000440</td>\n",
       "      <td>-0.007161</td>\n",
       "    </tr>\n",
       "    <tr>\n",
       "      <th>2021-10-27</th>\n",
       "      <td>-0.005052</td>\n",
       "      <td>0.000009</td>\n",
       "      <td>-0.007444</td>\n",
       "      <td>-0.018985</td>\n",
       "    </tr>\n",
       "    <tr>\n",
       "      <th>2021-10-28</th>\n",
       "      <td>0.009829</td>\n",
       "      <td>0.013933</td>\n",
       "      <td>0.006756</td>\n",
       "      <td>0.020195</td>\n",
       "    </tr>\n",
       "    <tr>\n",
       "      <th>2021-10-29</th>\n",
       "      <td>0.001949</td>\n",
       "      <td>0.003254</td>\n",
       "      <td>0.002493</td>\n",
       "      <td>-0.000344</td>\n",
       "    </tr>\n",
       "    <tr>\n",
       "      <th>2021-11-01</th>\n",
       "      <td>0.001800</td>\n",
       "      <td>0.006293</td>\n",
       "      <td>0.002632</td>\n",
       "      <td>0.026524</td>\n",
       "    </tr>\n",
       "  </tbody>\n",
       "</table>\n",
       "</div>"
      ],
      "text/plain": [
       "               ^GSPC     ^IXIC      ^DJI      ^RUT\n",
       "Date                                              \n",
       "2021-10-26  0.001820  0.000591  0.000440 -0.007161\n",
       "2021-10-27 -0.005052  0.000009 -0.007444 -0.018985\n",
       "2021-10-28  0.009829  0.013933  0.006756  0.020195\n",
       "2021-10-29  0.001949  0.003254  0.002493 -0.000344\n",
       "2021-11-01  0.001800  0.006293  0.002632  0.026524"
      ]
     },
     "execution_count": 44,
     "metadata": {},
     "output_type": "execute_result"
    }
   ],
   "source": [
    "ind_return = (ind_data/ind_data.shift(1)) -1\n",
    "ind_return.tail()"
   ]
  },
  {
   "cell_type": "code",
   "execution_count": 45,
   "metadata": {},
   "outputs": [
    {
     "data": {
      "text/plain": [
       "^GSPC    0.271714\n",
       "^IXIC    0.261094\n",
       "^DJI     0.213454\n",
       "^RUT     0.253362\n",
       "dtype: float64"
      ]
     },
     "execution_count": 45,
     "metadata": {},
     "output_type": "execute_result"
    }
   ],
   "source": [
    "annual_ind_return = ind_return.mean() * 250 \n",
    "annual_ind_return #average of the company under the indecise have all provided positive returns over the past 2 decades\n",
    "#GSPC: S&P \n",
    "#IXIC: Nasdaq\n",
    "#DJI: Dow Jones\n",
    "#RUT: Russell 2000"
   ]
  },
  {
   "cell_type": "code",
   "execution_count": 46,
   "metadata": {},
   "outputs": [],
   "source": [
    "tickers = ['AAPL', '^IXIC', '^DJI', '^RUT']\n",
    "ind_data_2 = pd.DataFrame()\n",
    "\n",
    "for t in tickers: \n",
    "    ind_data_2[t] = wb.DataReader(t, data_source='yahoo', start='2021-1-1')['Adj Close']"
   ]
  },
  {
   "cell_type": "code",
   "execution_count": 47,
   "metadata": {},
   "outputs": [
    {
     "data": {
      "text/html": [
       "<div>\n",
       "<style scoped>\n",
       "    .dataframe tbody tr th:only-of-type {\n",
       "        vertical-align: middle;\n",
       "    }\n",
       "\n",
       "    .dataframe tbody tr th {\n",
       "        vertical-align: top;\n",
       "    }\n",
       "\n",
       "    .dataframe thead th {\n",
       "        text-align: right;\n",
       "    }\n",
       "</style>\n",
       "<table border=\"1\" class=\"dataframe\">\n",
       "  <thead>\n",
       "    <tr style=\"text-align: right;\">\n",
       "      <th></th>\n",
       "      <th>AAPL</th>\n",
       "      <th>^IXIC</th>\n",
       "      <th>^DJI</th>\n",
       "      <th>^RUT</th>\n",
       "    </tr>\n",
       "    <tr>\n",
       "      <th>Date</th>\n",
       "      <th></th>\n",
       "      <th></th>\n",
       "      <th></th>\n",
       "      <th></th>\n",
       "    </tr>\n",
       "  </thead>\n",
       "  <tbody>\n",
       "    <tr>\n",
       "      <th>2021-10-26</th>\n",
       "      <td>149.320007</td>\n",
       "      <td>15235.709961</td>\n",
       "      <td>35756.878906</td>\n",
       "      <td>2296.080078</td>\n",
       "    </tr>\n",
       "    <tr>\n",
       "      <th>2021-10-27</th>\n",
       "      <td>148.850006</td>\n",
       "      <td>15235.839844</td>\n",
       "      <td>35490.691406</td>\n",
       "      <td>2252.489990</td>\n",
       "    </tr>\n",
       "    <tr>\n",
       "      <th>2021-10-28</th>\n",
       "      <td>152.570007</td>\n",
       "      <td>15448.120117</td>\n",
       "      <td>35730.480469</td>\n",
       "      <td>2297.979980</td>\n",
       "    </tr>\n",
       "    <tr>\n",
       "      <th>2021-10-29</th>\n",
       "      <td>149.800003</td>\n",
       "      <td>15498.389648</td>\n",
       "      <td>35819.558594</td>\n",
       "      <td>2297.189941</td>\n",
       "    </tr>\n",
       "    <tr>\n",
       "      <th>2021-11-01</th>\n",
       "      <td>148.960007</td>\n",
       "      <td>15595.915039</td>\n",
       "      <td>35913.839844</td>\n",
       "      <td>2358.121094</td>\n",
       "    </tr>\n",
       "  </tbody>\n",
       "</table>\n",
       "</div>"
      ],
      "text/plain": [
       "                  AAPL         ^IXIC          ^DJI         ^RUT\n",
       "Date                                                           \n",
       "2021-10-26  149.320007  15235.709961  35756.878906  2296.080078\n",
       "2021-10-27  148.850006  15235.839844  35490.691406  2252.489990\n",
       "2021-10-28  152.570007  15448.120117  35730.480469  2297.979980\n",
       "2021-10-29  149.800003  15498.389648  35819.558594  2297.189941\n",
       "2021-11-01  148.960007  15595.915039  35913.839844  2358.121094"
      ]
     },
     "execution_count": 47,
     "metadata": {},
     "output_type": "execute_result"
    }
   ],
   "source": [
    "ind_data_2.tail()"
   ]
  },
  {
   "cell_type": "code",
   "execution_count": 48,
   "metadata": {},
   "outputs": [
    {
     "data": {
      "image/png": "[encoded data removed]",
      "text/plain": [
       "<Figure size 1080x432 with 1 Axes>"
      ]
     },
     "metadata": {
      "needs_background": "light"
     },
     "output_type": "display_data"
    }
   ],
   "source": [
    "(ind_data_2/ind_data_2.iloc[0] * 100 ).plot(figsize = (15,6)); # apple over-performed over time\n"
   ]
  },
  {
   "cell_type": "markdown",
   "metadata": {},
   "source": [
    "Risk: $1000 - 15% earned. How is the average made? \n",
    "Variability: best measure of risk \n",
    "Volatile: Deviate from historical return, have both positive and negative suprises \n",
    "GOod idea about Rate of return -- Risk Averse (investors) \n",
    "- Variance\n",
    "- Standard Deviation - when we try to quantify risk in the dispersion of the likely outcome\n",
    "Variance: measure the dispersion of a set of data points around the mean\n",
    "0.16 <- sd: 40% - higher sd and vairance, a lot riskier  "
   ]
  },
  {
   "cell_type": "markdown",
   "metadata": {},
   "source": [
    "Calculating Risks of security "
   ]
  },
  {
   "cell_type": "code",
   "execution_count": 49,
   "metadata": {},
   "outputs": [],
   "source": [
    "tickers = ['AAPL' , 'GM']\n",
    "\n",
    "sec_data = pd.DataFrame()\n",
    "\n",
    "for t in tickers:\n",
    "    sec_data[t] = wb.DataReader(t, data_source='yahoo', start='2015-01-01')['Adj Close']"
   ]
  },
  {
   "cell_type": "code",
   "execution_count": 50,
   "metadata": {},
   "outputs": [
    {
     "name": "stdout",
     "output_type": "stream",
     "text": [
      "<class 'pandas.core.frame.DataFrame'>\n",
      "DatetimeIndex: 1721 entries, 2015-01-02 to 2021-11-01\n",
      "Data columns (total 2 columns):\n",
      " #   Column  Non-Null Count  Dtype  \n",
      "---  ------  --------------  -----  \n",
      " 0   AAPL    1721 non-null   float64\n",
      " 1   GM      1721 non-null   float64\n",
      "dtypes: float64(2)\n",
      "memory usage: 40.3 KB\n"
     ]
    }
   ],
   "source": [
    "sec_data.info()"
   ]
  },
  {
   "cell_type": "markdown",
   "metadata": {},
   "source": [
    "The sd of a companies returns is also called a risk or volatility, a stock whose return shows large deviation from its mean is said to be more volatile"
   ]
  },
  {
   "cell_type": "code",
   "execution_count": 51,
   "metadata": {},
   "outputs": [
    {
     "data": {
      "text/html": [
       "<div>\n",
       "<style scoped>\n",
       "    .dataframe tbody tr th:only-of-type {\n",
       "        vertical-align: middle;\n",
       "    }\n",
       "\n",
       "    .dataframe tbody tr th {\n",
       "        vertical-align: top;\n",
       "    }\n",
       "\n",
       "    .dataframe thead th {\n",
       "        text-align: right;\n",
       "    }\n",
       "</style>\n",
       "<table border=\"1\" class=\"dataframe\">\n",
       "  <thead>\n",
       "    <tr style=\"text-align: right;\">\n",
       "      <th></th>\n",
       "      <th>AAPL</th>\n",
       "      <th>GM</th>\n",
       "    </tr>\n",
       "    <tr>\n",
       "      <th>Date</th>\n",
       "      <th></th>\n",
       "      <th></th>\n",
       "    </tr>\n",
       "  </thead>\n",
       "  <tbody>\n",
       "    <tr>\n",
       "      <th>2021-10-26</th>\n",
       "      <td>149.320007</td>\n",
       "      <td>57.369999</td>\n",
       "    </tr>\n",
       "    <tr>\n",
       "      <th>2021-10-27</th>\n",
       "      <td>148.850006</td>\n",
       "      <td>54.259998</td>\n",
       "    </tr>\n",
       "    <tr>\n",
       "      <th>2021-10-28</th>\n",
       "      <td>152.570007</td>\n",
       "      <td>54.240002</td>\n",
       "    </tr>\n",
       "    <tr>\n",
       "      <th>2021-10-29</th>\n",
       "      <td>149.800003</td>\n",
       "      <td>54.430000</td>\n",
       "    </tr>\n",
       "    <tr>\n",
       "      <th>2021-11-01</th>\n",
       "      <td>148.960007</td>\n",
       "      <td>55.490002</td>\n",
       "    </tr>\n",
       "  </tbody>\n",
       "</table>\n",
       "</div>"
      ],
      "text/plain": [
       "                  AAPL         GM\n",
       "Date                             \n",
       "2021-10-26  149.320007  57.369999\n",
       "2021-10-27  148.850006  54.259998\n",
       "2021-10-28  152.570007  54.240002\n",
       "2021-10-29  149.800003  54.430000\n",
       "2021-11-01  148.960007  55.490002"
      ]
     },
     "execution_count": 51,
     "metadata": {},
     "output_type": "execute_result"
    }
   ],
   "source": [
    "sec_data.tail()"
   ]
  },
  {
   "cell_type": "code",
   "execution_count": 52,
   "metadata": {},
   "outputs": [
    {
     "data": {
      "text/html": [
       "<div>\n",
       "<style scoped>\n",
       "    .dataframe tbody tr th:only-of-type {\n",
       "        vertical-align: middle;\n",
       "    }\n",
       "\n",
       "    .dataframe tbody tr th {\n",
       "        vertical-align: top;\n",
       "    }\n",
       "\n",
       "    .dataframe thead th {\n",
       "        text-align: right;\n",
       "    }\n",
       "</style>\n",
       "<table border=\"1\" class=\"dataframe\">\n",
       "  <thead>\n",
       "    <tr style=\"text-align: right;\">\n",
       "      <th></th>\n",
       "      <th>AAPL</th>\n",
       "      <th>GM</th>\n",
       "    </tr>\n",
       "    <tr>\n",
       "      <th>Date</th>\n",
       "      <th></th>\n",
       "      <th></th>\n",
       "    </tr>\n",
       "  </thead>\n",
       "  <tbody>\n",
       "    <tr>\n",
       "      <th>2021-10-26</th>\n",
       "      <td>0.004564</td>\n",
       "      <td>-0.006775</td>\n",
       "    </tr>\n",
       "    <tr>\n",
       "      <th>2021-10-27</th>\n",
       "      <td>-0.003153</td>\n",
       "      <td>-0.055734</td>\n",
       "    </tr>\n",
       "    <tr>\n",
       "      <th>2021-10-28</th>\n",
       "      <td>0.024684</td>\n",
       "      <td>-0.000369</td>\n",
       "    </tr>\n",
       "    <tr>\n",
       "      <th>2021-10-29</th>\n",
       "      <td>-0.018322</td>\n",
       "      <td>0.003497</td>\n",
       "    </tr>\n",
       "    <tr>\n",
       "      <th>2021-11-01</th>\n",
       "      <td>-0.005623</td>\n",
       "      <td>0.019287</td>\n",
       "    </tr>\n",
       "  </tbody>\n",
       "</table>\n",
       "</div>"
      ],
      "text/plain": [
       "                AAPL        GM\n",
       "Date                          \n",
       "2021-10-26  0.004564 -0.006775\n",
       "2021-10-27 -0.003153 -0.055734\n",
       "2021-10-28  0.024684 -0.000369\n",
       "2021-10-29 -0.018322  0.003497\n",
       "2021-11-01 -0.005623  0.019287"
      ]
     },
     "execution_count": 52,
     "metadata": {},
     "output_type": "execute_result"
    }
   ],
   "source": [
    "sec_returns = np.log(sec_data/sec_data.shift(1))\n",
    "sec_returns.tail()"
   ]
  },
  {
   "cell_type": "markdown",
   "metadata": {},
   "source": [
    "THIS IS FOR APPLE: Calculating the risk of a security "
   ]
  },
  {
   "cell_type": "code",
   "execution_count": 53,
   "metadata": {},
   "outputs": [
    {
     "data": {
      "text/plain": [
       "0.0010427649715703412"
      ]
     },
     "execution_count": 53,
     "metadata": {},
     "output_type": "execute_result"
    }
   ],
   "source": [
    "sec_returns['AAPL'].mean()"
   ]
  },
  {
   "cell_type": "code",
   "execution_count": 54,
   "metadata": {},
   "outputs": [
    {
     "data": {
      "text/plain": [
       "0.2606912428925853"
      ]
     },
     "execution_count": 54,
     "metadata": {},
     "output_type": "execute_result"
    }
   ],
   "source": [
    "sec_returns['AAPL'].mean() *250"
   ]
  },
  {
   "cell_type": "code",
   "execution_count": 55,
   "metadata": {},
   "outputs": [
    {
     "data": {
      "text/plain": [
       "0.018334652700719437"
      ]
     },
     "execution_count": 55,
     "metadata": {},
     "output_type": "execute_result"
    }
   ],
   "source": [
    "sec_returns['AAPL'].std()"
   ]
  },
  {
   "cell_type": "code",
   "execution_count": 56,
   "metadata": {},
   "outputs": [
    {
     "data": {
      "text/plain": [
       "0.2898963132121546"
      ]
     },
     "execution_count": 56,
     "metadata": {},
     "output_type": "execute_result"
    }
   ],
   "source": [
    "sec_returns['AAPL'].std() * 250 ** 0.5"
   ]
  },
  {
   "cell_type": "markdown",
   "metadata": {},
   "source": [
    "THIS IS FOR GENERAL MOTORS: Calculating the risk of a security "
   ]
  },
  {
   "cell_type": "code",
   "execution_count": 57,
   "metadata": {},
   "outputs": [
    {
     "data": {
      "text/plain": [
       "0.0004001809038917423"
      ]
     },
     "execution_count": 57,
     "metadata": {},
     "output_type": "execute_result"
    }
   ],
   "source": [
    "sec_returns['GM'].mean()"
   ]
  },
  {
   "cell_type": "code",
   "execution_count": 58,
   "metadata": {},
   "outputs": [
    {
     "data": {
      "text/plain": [
       "0.10004522597293558"
      ]
     },
     "execution_count": 58,
     "metadata": {},
     "output_type": "execute_result"
    }
   ],
   "source": [
    "sec_returns['GM'].mean() *250"
   ]
  },
  {
   "cell_type": "code",
   "execution_count": 59,
   "metadata": {},
   "outputs": [
    {
     "data": {
      "text/plain": [
       "0.021876450819232035"
      ]
     },
     "execution_count": 59,
     "metadata": {},
     "output_type": "execute_result"
    }
   ],
   "source": [
    "sec_returns['GM'].std()"
   ]
  },
  {
   "cell_type": "code",
   "execution_count": 60,
   "metadata": {},
   "outputs": [
    {
     "data": {
      "text/plain": [
       "0.34589705854714853"
      ]
     },
     "execution_count": 60,
     "metadata": {},
     "output_type": "execute_result"
    }
   ],
   "source": [
    "sec_returns['GM'].std() * 250 ** 0.5"
   ]
  },
  {
   "cell_type": "code",
   "execution_count": 61,
   "metadata": {},
   "outputs": [
    {
     "data": {
      "text/plain": [
       "AAPL    0.260691\n",
       "GM      0.100045\n",
       "dtype: float64"
      ]
     },
     "execution_count": 61,
     "metadata": {},
     "output_type": "execute_result"
    }
   ],
   "source": [
    "sec_returns[['AAPL','GM']].mean() *250"
   ]
  },
  {
   "cell_type": "code",
   "execution_count": 62,
   "metadata": {},
   "outputs": [
    {
     "data": {
      "text/plain": [
       "AAPL    0.289896\n",
       "GM      0.345897\n",
       "dtype: float64"
      ]
     },
     "execution_count": 62,
     "metadata": {},
     "output_type": "execute_result"
    }
   ],
   "source": [
    "sec_returns[['AAPL','GM']].std() *250 ** 0.5"
   ]
  },
  {
   "cell_type": "markdown",
   "metadata": {},
   "source": [
    "Stocks with higer expected return often have more risk\n",
    "GM has more dispersion since more riskier"
   ]
  },
  {
   "cell_type": "markdown",
   "metadata": {},
   "source": [
    "The relationship between financial securities \n",
    "- Jobs\n",
    "- Business\n",
    "- Consumer Spending\n",
    "All these are favorable macroeconomic conditions which facilitate the business of all companies\n",
    "In recession, consumer spending goes down, economy doing food, srock prices are higher \n",
    "- Companies shares are inflenced by the state of the company\n",
    "- Time of crisis: Car companies are impacted more than supermarket as people stop buying cars here but wont stop buying cars \n",
    "- Walmart operates in different industry that facebook and linkedin (buying one or another when you already have one)\n",
    "- It is better to invest in companies operating in different industries \n",
    "- There is a relationship between prices of companies, which will help us optimize investment portfolios"
   ]
  },
  {
   "cell_type": "markdown",
   "metadata": {},
   "source": [
    "Measuring the relationship between stocks \n",
    "- House Price: Typically larger houses are more expensive \n",
    "- The correlation coefficient measure the relatiosnhip between 2 variables \n",
    "- Co-variance: cant be of different values \n",
    "- Correlation adjusts covariance\n",
    "- Perfect correlation: entire variablily of the second variable is explained by the first variable\n",
    "    - for every additional sq. foot of size we would expect an increase of $1000 \n",
    "    - for 5 additinal sq. feet, price of house will increase by $5000\n",
    "    - Likely to observe imperfect correlation. \n",
    "Variables that determine share prices: (1) Industry growth (2) Revenue Growth (3)Profitablity (4) Regulatory environment \n",
    "    The more similar the context in which the two companies operate, the more correlation there will be between their share prices (infleunced by same or similar factors)\n",
    "    No correlation: means they are independent from each other (nothing in common)\n",
    "    Negative Correlation: Ice cream producers and Umbrella's producer (one of the companies makes more money, other wont)\n",
    "    - price of the company stock is influenced by the same vairable, but impacts businesses in a different way "
   ]
  },
  {
   "cell_type": "markdown",
   "metadata": {},
   "source": [
    "Covariance and Correlation \n",
    "Representation of how 2 or more vairables relate to each other\n",
    "ALong the diagonal - variance of the variable and rest is co-variance between them\n",
    "Here, we use 2 stocks \n",
    "var(AAPL)          | cov(AAPL, GM)\n",
    "cov(GM, AAPL)      | var (GM) "
   ]
  },
  {
   "cell_type": "code",
   "execution_count": 63,
   "metadata": {},
   "outputs": [
    {
     "data": {
      "text/plain": [
       "0.08403987241399964"
      ]
     },
     "execution_count": 63,
     "metadata": {},
     "output_type": "execute_result"
    }
   ],
   "source": [
    "AAPL_var = sec_returns['AAPL'].var()\n",
    "AAPL_var_a = sec_returns['AAPL'].var() *250\n",
    "AAPL_var_a"
   ]
  },
  {
   "cell_type": "code",
   "execution_count": 64,
   "metadata": {},
   "outputs": [
    {
     "data": {
      "text/plain": [
       "0.11964477511156948"
      ]
     },
     "execution_count": 64,
     "metadata": {},
     "output_type": "execute_result"
    }
   ],
   "source": [
    "GML_var = sec_returns['GM'].var()\n",
    "GM_var_a = sec_returns['GM'].var() *250\n",
    "GM_var_a"
   ]
  },
  {
   "cell_type": "code",
   "execution_count": 67,
   "metadata": {},
   "outputs": [
    {
     "data": {
      "text/html": [
       "<div>\n",
       "<style scoped>\n",
       "    .dataframe tbody tr th:only-of-type {\n",
       "        vertical-align: middle;\n",
       "    }\n",
       "\n",
       "    .dataframe tbody tr th {\n",
       "        vertical-align: top;\n",
       "    }\n",
       "\n",
       "    .dataframe thead th {\n",
       "        text-align: right;\n",
       "    }\n",
       "</style>\n",
       "<table border=\"1\" class=\"dataframe\">\n",
       "  <thead>\n",
       "    <tr style=\"text-align: right;\">\n",
       "      <th></th>\n",
       "      <th>AAPL</th>\n",
       "      <th>GM</th>\n",
       "    </tr>\n",
       "  </thead>\n",
       "  <tbody>\n",
       "    <tr>\n",
       "      <th>AAPL</th>\n",
       "      <td>0.084040</td>\n",
       "      <td>0.035196</td>\n",
       "    </tr>\n",
       "    <tr>\n",
       "      <th>GM</th>\n",
       "      <td>0.035196</td>\n",
       "      <td>0.119645</td>\n",
       "    </tr>\n",
       "  </tbody>\n",
       "</table>\n",
       "</div>"
      ],
      "text/plain": [
       "          AAPL        GM\n",
       "AAPL  0.084040  0.035196\n",
       "GM    0.035196  0.119645"
      ]
     },
     "execution_count": 67,
     "metadata": {},
     "output_type": "execute_result"
    }
   ],
   "source": [
    "cov_matrix = sec_returns.cov()\n",
    "cov_matrix_a = sec_returns.cov() * 250\n",
    "cov_matrix_a"
   ]
  },
  {
   "cell_type": "code",
   "execution_count": 66,
   "metadata": {},
   "outputs": [
    {
     "data": {
      "text/html": [
       "<div>\n",
       "<style scoped>\n",
       "    .dataframe tbody tr th:only-of-type {\n",
       "        vertical-align: middle;\n",
       "    }\n",
       "\n",
       "    .dataframe tbody tr th {\n",
       "        vertical-align: top;\n",
       "    }\n",
       "\n",
       "    .dataframe thead th {\n",
       "        text-align: right;\n",
       "    }\n",
       "</style>\n",
       "<table border=\"1\" class=\"dataframe\">\n",
       "  <thead>\n",
       "    <tr style=\"text-align: right;\">\n",
       "      <th></th>\n",
       "      <th>AAPL</th>\n",
       "      <th>GM</th>\n",
       "    </tr>\n",
       "  </thead>\n",
       "  <tbody>\n",
       "    <tr>\n",
       "      <th>AAPL</th>\n",
       "      <td>1.000000</td>\n",
       "      <td>0.350999</td>\n",
       "    </tr>\n",
       "    <tr>\n",
       "      <th>GM</th>\n",
       "      <td>0.350999</td>\n",
       "      <td>1.000000</td>\n",
       "    </tr>\n",
       "  </tbody>\n",
       "</table>\n",
       "</div>"
      ],
      "text/plain": [
       "          AAPL        GM\n",
       "AAPL  1.000000  0.350999\n",
       "GM    0.350999  1.000000"
      ]
     },
     "execution_count": 66,
     "metadata": {},
     "output_type": "execute_result"
    }
   ],
   "source": [
    "corr_matrix = sec_returns.corr() \n",
    "corr_matrix"
   ]
  }
 ],
 "metadata": {
  "interpreter": {
   "hash": "5a2f71027535b24f5c88a4e6450998d1da320ee637fb5468da0fec436e115689"
  },
  "kernelspec": {
   "display_name": "Python 3.8.8 64-bit ('base': conda)",
   "name": "python3"
  },
  "language_info": {
   "codemirror_mode": {
    "name": "ipython",
    "version": 3
   },
   "file_extension": ".py",
   "mimetype": "text/x-python",
   "name": "python",
   "nbconvert_exporter": "python",
   "pygments_lexer": "ipython3",
   "version": "3.8.8"
  },
  "orig_nbformat": 4
 },
 "nbformat": 4,
 "nbformat_minor": 2
}
